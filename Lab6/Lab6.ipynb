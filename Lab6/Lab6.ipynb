{
 "cells": [
  {
   "cell_type": "code",
   "execution_count": 3,
   "metadata": {},
   "outputs": [
    {
     "name": "stdout",
     "output_type": "stream",
     "text": [
      "Đạo hàm của y tại x = 2.0 là: 1161.0\n"
     ]
    }
   ],
   "source": [
    "import torch\n",
    "\n",
    "x = torch.tensor(2.0, requires_grad=True)\n",
    "\n",
    "# Định nghĩa hàm số y\n",
    "y = 5*x**6+3*x**3+2*x**1+x+2*x+5*x**4+1\n",
    "\n",
    "# Tính đạo hàm\n",
    "y.backward()\n",
    "\n",
    "# Lấy giá trị đạo hàm\n",
    "dy_dx = x.grad\n",
    "\n",
    "print(f\"Đạo hàm của y tại x = {x.item()} là: {dy_dx.item()}\")\n"
   ]
  },
  {
   "cell_type": "code",
   "execution_count": 8,
   "metadata": {},
   "outputs": [
    {
     "name": "stdout",
     "output_type": "stream",
     "text": [
      "[1 2 3 4 5]\n",
      "int64\n",
      "<class 'numpy.ndarray'>\n",
      "tensor([1, 2, 3, 4, 5])\n"
     ]
    }
   ],
   "source": [
    "#BTVN\n",
    "#Tạo một tensor có giá trị ban đầu là 2.0\n",
    "# định nghãi hàm số và tính gradient\n",
    "# y = x**3 + 2*x**2 + 5+x + 1\n",
    "# hãy tính dy/dx tại gái trị của x\n",
    "# Dừng phương pháp Gradient Descent với learning rate alpha = 0.1 để cập nhật giá trị x trong 10 vòng\n",
    "# BTVN 2:\n",
    "# Tạo một tập dữ liệu giả lập với x là số giờ học (ngẫu nhiên từ 1 -10) và y là số điểm được tính theo công thức y = 3x + 5 + noise\n",
    "# với noise là một giá trị ngẫu nhiên nhỏ\n",
    "# 1. Khởi tạo tham số w và b ngẫu nhiên với require_radient = True\n",
    "# 2,3.Tính gradient, MSE\n",
    "# 4. Cập nhật tham số w và b bằng gradient Descent với Learning rate alphe = 0.01\n",
    "# 5. Lập lại quá trình trên trong 100 vòng lặp và quan sát sự hội tụ của mô hình\n",
    "\n",
    "\n",
    "# PYTORCH with tensor\n",
    "import torch\n",
    "import numpy as np\n",
    "\n",
    "torch.__version__\n",
    "\n",
    "# Chuyển đổi mảng numpy sang tensor pytorch\n",
    "\n",
    "arr = np.array([1,2,3,4,5])\n",
    "print(arr)\n",
    "print(arr.dtype)\n",
    "print(type(arr))\n",
    "\n",
    "x = torch.from_numpy(arr)\n",
    "print(x)"
   ]
  },
  {
   "cell_type": "code",
   "execution_count": 12,
   "metadata": {},
   "outputs": [
    {
     "name": "stdout",
     "output_type": "stream",
     "text": [
      "torch.int64\n",
      "<built-in method type of Tensor object at 0x0000023F7B731900>\n",
      "[[ 0  1  2]\n",
      " [ 3  4  5]\n",
      " [ 6  7  8]\n",
      " [ 9 10 11]]\n"
     ]
    }
   ],
   "source": [
    "print (x.dtype)\n",
    "print (x.type)\n",
    "torch.LongTensor\n",
    "\n",
    "arr2 = np.arange(0,12).reshape(4,3)\n",
    "print (arr2)"
   ]
  },
  {
   "cell_type": "code",
   "execution_count": 13,
   "metadata": {},
   "outputs": [
    {
     "name": "stdout",
     "output_type": "stream",
     "text": [
      "tensor([[ 0,  1,  2],\n",
      "        [ 3,  4,  5],\n",
      "        [ 6,  7,  8],\n",
      "        [ 9, 10, 11]])\n",
      "<built-in method type of Tensor object at 0x0000023F7CD5F7F0>\n"
     ]
    }
   ],
   "source": [
    "x2 = torch.from_numpy(arr2)\n",
    "print(x2)\n",
    "print(x2.type)"
   ]
  },
  {
   "cell_type": "code",
   "execution_count": 15,
   "metadata": {},
   "outputs": [
    {
     "name": "stdout",
     "output_type": "stream",
     "text": [
      "tensor([0, 1, 2, 3, 4])\n",
      "tensor([99,  1,  2,  3,  4])\n"
     ]
    }
   ],
   "source": [
    "arr = np.arange(0,5)\n",
    "x = torch.from_numpy(arr)\n",
    "print(x)\n",
    "arr [0] = 99\n",
    "print(x)\n"
   ]
  },
  {
   "cell_type": "code",
   "execution_count": null,
   "metadata": {},
   "outputs": [
    {
     "name": "stdout",
     "output_type": "stream",
     "text": [
      "Empty tensor:\n",
      " tensor([[0., 0., 0., 0.],\n",
      "        [0., 0., 0., 0.],\n",
      "        [0., 0., 0., 0.]])\n",
      "\n",
      "Zeros tensor:\n",
      " tensor([[0., 0., 0.],\n",
      "        [0., 0., 0.]])\n",
      "\n",
      "Ones tensor:\n",
      " tensor([[1., 1.],\n",
      "        [1., 1.],\n",
      "        [1., 1.],\n",
      "        [1., 1.]])\n",
      "\n",
      "Random tensor:\n",
      " tensor([[0.5923, 0.9337, 0.4427],\n",
      "        [0.1079, 0.6479, 0.2008],\n",
      "        [0.3692, 0.9363, 0.0525]])\n",
      "\n",
      "Original tensor (2x4):\n",
      " tensor([[1, 2, 3, 4],\n",
      "        [5, 6, 7, 8]])\n",
      "\n",
      "Reshaped tensor using view (4x2):\n",
      " tensor([[1, 2],\n",
      "        [3, 4],\n",
      "        [5, 6],\n",
      "        [7, 8]])\n",
      "\n",
      "Reshaped tensor using view (1x8):\n",
      " tensor([[1, 2, 3, 4, 5, 6, 7, 8]])\n",
      "\n",
      "Reshaped tensor using view_as (4x2):\n",
      " tensor([[1, 2],\n",
      "        [3, 4],\n",
      "        [5, 6],\n",
      "        [7, 8]])\n"
     ]
    }
   ],
   "source": [
    "#Giải thích lý do tại sao ? cho 2 trường hợp trên \n",
    "#Khi thay đổi giá trị arr[0] = 99, giá trị trong tensor x cũng thay đổi (x[0] trở thành 99).\n",
    "#Tensor x được tạo bằng torch.from_numpy(arr) chia sẻ bộ nhớ với array arr. Do đó, mọi thay đổi trong arr sẽ ảnh hưởng trực tiếp đến x, và ngược lại.\n",
    "# BTVN 4: Bạn hãy giúp best nasus về nhà tạo tensor với :\n",
    "# Empyty\n",
    "# Zeros\n",
    "# Ones\n",
    "# Random\n",
    "# reahape với view và view as\n",
    "import torch\n",
    "\n",
    "# Tạo tensor Empty (tensor rỗng, giá trị không được khởi tạo)\n",
    "empty_tensor = torch.empty(3, 4)  # Tạo tensor 3x4, giá trị ngẫu nhiên (không khởi tạo)\n",
    "print(\"Empty tensor:\\n\", empty_tensor)\n",
    "\n",
    "# Tạo tensor Zeros (tất cả giá trị là 0)\n",
    "zeros_tensor = torch.zeros(2, 3)  # Tạo tensor 2x3, tất cả giá trị là 0\n",
    "print(\"\\nZeros tensor:\\n\", zeros_tensor)\n",
    "\n",
    "# Tạo tensor Ones (tất cả giá trị là 1)\n",
    "ones_tensor = torch.ones(4, 2)  # Tạo tensor 4x2, tất cả giá trị là 1\n",
    "print(\"\\nOnes tensor:\\n\", ones_tensor)\n",
    "\n",
    "# Tạo tensor Random (giá trị ngẫu nhiên từ phân phối đều [0, 1))\n",
    "random_tensor = torch.rand(3, 3)  # Tạo tensor 3x3, giá trị ngẫu nhiên từ 0 đến 1\n",
    "print(\"\\nRandom tensor:\\n\", random_tensor)\n",
    "\n",
    "# Reshape tensor bằng view\n",
    "# Tạo tensor ban đầu kích thước 2x4\n",
    "original_tensor = torch.tensor([[1, 2, 3, 4],\n",
    "                               [5, 6, 7, 8]])\n",
    "print(\"\\nOriginal tensor (2x4):\\n\", original_tensor)\n",
    "\n",
    "# Sử dụng view để reshape thành 4x2\n",
    "reshaped_view = original_tensor.view(4, 2)\n",
    "print(\"\\nReshaped tensor using view (4x2):\\n\", reshaped_view)\n",
    "\n",
    "# Sử dụng view để reshape thành 1x8\n",
    "reshaped_view_flat = original_tensor.view(1, 8)\n",
    "print(\"\\nReshaped tensor using view (1x8):\\n\", reshaped_view_flat)\n",
    "\n",
    "# Sử dụng view_as để reshape (tương tự view, nhưng dựa trên tensor khác)\n",
    "target_shape = torch.tensor([[0, 0], [0, 0], [0, 0], [0, 0]])  # Tensor 4x2\n",
    "reshaped_view_as = original_tensor.view_as(target_shape)\n",
    "print(\"\\nReshaped tensor using view_as (4x2):\\n\", reshaped_view_as)"
   ]
  }
 ],
 "metadata": {
  "kernelspec": {
   "display_name": "Python 3",
   "language": "python",
   "name": "python3"
  },
  "language_info": {
   "codemirror_mode": {
    "name": "ipython",
    "version": 3
   },
   "file_extension": ".py",
   "mimetype": "text/x-python",
   "name": "python",
   "nbconvert_exporter": "python",
   "pygments_lexer": "ipython3",
   "version": "3.12.3"
  }
 },
 "nbformat": 4,
 "nbformat_minor": 2
}
