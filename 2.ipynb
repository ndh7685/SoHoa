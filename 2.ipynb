{
 "cells": [
  {
   "cell_type": "code",
   "execution_count": null,
   "metadata": {},
   "outputs": [],
   "source": [
    "# Bài tập trên lớp từ 14h20-14h35\n",
    "\n",
    "# Cho ma trận =[\n",
    "#    [1,2,3],\n",
    "#    [4,5,6],\n",
    "#    [7,8,9]\n",
    "#]\n",
    "\n",
    "# Lấy 4,5,6\n",
    "# Lấy 2,5\n",
    "# Lấy 3,4\n",
    "# Lấy 9,6,3"
   ]
  },
  {
   "cell_type": "code",
   "execution_count": 9,
   "metadata": {},
   "outputs": [
    {
     "name": "stdout",
     "output_type": "stream",
     "text": [
      "[[1 2 3]\n",
      " [4 5 6]\n",
      " [7 8 9]]\n",
      "[4 5 6]\n",
      "[2 5]\n",
      "[3 4]\n",
      "[9 6 3]\n"
     ]
    }
   ],
   "source": [
    "import numpy as np\n",
    "x =[[1,2,3],[4,5,6],[7,8,9]]\n",
    "mang=np.array(x)\n",
    "\n",
    "print(mang)\n",
    "# Lấy 4,5,6\n",
    "print(mang[1, :])\n",
    "# Lấy 2,5\n",
    "print(mang[0:2, 1])\n",
    "# Lấy 3,4\n",
    "print(mang[[0,1],[2,0]])\n",
    "# Lấy 9,6,3\n",
    "print(mang[:3,-1][::-1])\n",
    "\n"
   ]
  },
  {
   "cell_type": "code",
   "execution_count": 15,
   "metadata": {},
   "outputs": [
    {
     "data": {
      "text/plain": [
       "array([0, 1, 2])"
      ]
     },
     "execution_count": 15,
     "metadata": {},
     "output_type": "execute_result"
    }
   ],
   "source": [
    "import numpy as np\n",
    "np.ones((3,3))\n",
    "array=([[1.,1.,1.],[1.,1.,1.],[1.,1.,1.]])\n",
    "np.ones(3)\n",
    "np.ones((3,3))+np.arange(3)\n"
   ]
  },
  {
   "cell_type": "code",
   "execution_count": 16,
   "metadata": {},
   "outputs": [
    {
     "data": {
      "text/plain": [
       "array([0, 1, 2])"
      ]
     },
     "execution_count": 16,
     "metadata": {},
     "output_type": "execute_result"
    }
   ],
   "source": [
    "x=np.arange(3)\n",
    "x"
   ]
  },
  {
   "cell_type": "code",
   "execution_count": 23,
   "metadata": {},
   "outputs": [
    {
     "data": {
      "text/plain": [
       "array([[0],\n",
       "       [1],\n",
       "       [2]])"
      ]
     },
     "execution_count": 23,
     "metadata": {},
     "output_type": "execute_result"
    }
   ],
   "source": [
    "x=np.arange(3)\n",
    "x = x.reshape((3,1))\n",
    "x"
   ]
  },
  {
   "cell_type": "code",
   "execution_count": 27,
   "metadata": {},
   "outputs": [
    {
     "data": {
      "text/plain": [
       "array([0, 2, 4])"
      ]
     },
     "execution_count": 27,
     "metadata": {},
     "output_type": "execute_result"
    }
   ],
   "source": [
    "\n",
    "y=np.arange(3)\n",
    "x+ y"
   ]
  },
  {
   "cell_type": "code",
   "execution_count": 10,
   "metadata": {},
   "outputs": [
    {
     "name": "stdout",
     "output_type": "stream",
     "text": [
      "[2, 4, 6, 8, 10]\n"
     ]
    }
   ],
   "source": [
    "x=[1,2,3,4,5,6,7,8,9,10]\n",
    "so_chan = [num for num in x if num % 2 == 0]\n",
    "print(so_chan)"
   ]
  },
  {
   "cell_type": "code",
   "execution_count": 34,
   "metadata": {},
   "outputs": [
    {
     "data": {
      "text/plain": [
       "10"
      ]
     },
     "execution_count": 34,
     "metadata": {},
     "output_type": "execute_result"
    }
   ],
   "source": [
    "data = np.random.uniform(0,10,(150,5))\n",
    "data.shape\n",
    "X = data[:, :4]\n",
    "Y = data[:, 4]\n",
    "X.shape,Y.shape\n",
    "dataset_size=X.shape[0]\n",
    "train_size=int(0.7*dataset_size)\n",
    "train_size\n",
    "X_train=X[:train_size]\n",
    "X_test=X[train_size:]\n",
    "X_train.shape,X_test.shape\n",
    "split= X_train.shape[0]//10\n",
    "split\n"
   ]
  },
  {
   "cell_type": "code",
   "execution_count": null,
   "metadata": {},
   "outputs": [],
   "source": []
  }
 ],
 "metadata": {
  "kernelspec": {
   "display_name": "Python 3",
   "language": "python",
   "name": "python3"
  },
  "language_info": {
   "codemirror_mode": {
    "name": "ipython",
    "version": 3
   },
   "file_extension": ".py",
   "mimetype": "text/x-python",
   "name": "python",
   "nbconvert_exporter": "python",
   "pygments_lexer": "ipython3",
   "version": "3.12.3"
  }
 },
 "nbformat": 4,
 "nbformat_minor": 2
}
