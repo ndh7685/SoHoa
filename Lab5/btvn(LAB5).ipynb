{
 "cells": [
  {
   "cell_type": "code",
   "execution_count": 1,
   "metadata": {},
   "outputs": [
    {
     "name": "stdout",
     "output_type": "stream",
     "text": [
      "Số hàng là: 2938, Số cột là: 22\n"
     ]
    }
   ],
   "source": [
    "#2.Cho bộ dữ liệu sau:how long we live\n",
    "import pandas as pd\n",
    "file_path=\"howlongwelive.csv\"\n",
    "df=pd.read_csv(file_path)\n",
    "\n",
    "#2.1 có bao nhiêu cột và bao nhiêu hàng\n",
    "so_hang , so_cot=df.shape\n",
    "print(f'Số hàng là: {so_hang}, Số cột là: {so_cot}')\n",
    "\n",
    "\n"
   ]
  },
  {
   "cell_type": "code",
   "execution_count": 2,
   "metadata": {},
   "outputs": [
    {
     "name": "stdout",
     "output_type": "stream",
     "text": [
      "Danh sách tên các cột là:  ['Country', 'Year', 'Status', 'Life expectancy ', 'Adult Mortality', 'infant deaths', 'Alcohol', 'percentage expenditure', 'Hepatitis B', 'Measles ', ' BMI ', 'under-five deaths ', 'Polio', 'Total expenditure', 'Diphtheria ', ' HIV/AIDS', 'GDP', 'Population', ' thinness  1-19 years', ' thinness 5-9 years', 'Income composition of resources', 'Schooling']\n"
     ]
    }
   ],
   "source": [
    "#2.2 danh sách tên của các cột\n",
    "print(f'Danh sách tên các cột là: ',df.columns.tolist())"
   ]
  },
  {
   "cell_type": "code",
   "execution_count": 3,
   "metadata": {},
   "outputs": [
    {
     "name": "stdout",
     "output_type": "stream",
     "text": [
      "0    Developing\n",
      "1    Developing\n",
      "2    Developing\n",
      "3    Developing\n",
      "4    Developing\n",
      "Name: Status, dtype: object\n"
     ]
    }
   ],
   "source": [
    "# 2.3 thử dùng df[\"status\"]\n",
    "print(df['Status'].head())\n"
   ]
  },
  {
   "cell_type": "code",
   "execution_count": 7,
   "metadata": {},
   "outputs": [
    {
     "name": "stdout",
     "output_type": "stream",
     "text": [
      "Số nước phát triển: 512, số nước đang phát triển: 2426\n"
     ]
    }
   ],
   "source": [
    "#2.4 có bao nhiêu nước đang phát triển và các nước phát triển\n",
    "developed_count = df[df['Status'].str.strip() == 'Developed'].shape[0]\n",
    "developing_count = df[df['Status'].str.strip() == 'Developing'].shape[0]\n",
    "print(f'Số nước phát triển: {developed_count}, số nước đang phát triển: {developing_count}')\n"
   ]
  },
  {
   "cell_type": "code",
   "execution_count": 8,
   "metadata": {},
   "outputs": [
    {
     "name": "stdout",
     "output_type": "stream",
     "text": [
      "Thống kê Alcohol:\n",
      "Min: 0.01\n",
      "Max: 17.87\n",
      "Mean: 4.602860787172012\n",
      "Median: 3.755\n"
     ]
    }
   ],
   "source": [
    "#2.5 tính min,max,mean,medial của alcohol\n",
    "print('Thống kê Alcohol:')\n",
    "print('Min:', df['Alcohol'].min())\n",
    "print('Max:', df['Alcohol'].max())\n",
    "print('Mean:', df['Alcohol'].mean())\n",
    "print('Median:', df['Alcohol'].median())"
   ]
  },
  {
   "cell_type": "code",
   "execution_count": null,
   "metadata": {},
   "outputs": [],
   "source": [
    "#2.6 :\n",
    "   #2.6.1: đếm những hàng có rượu nhiều hơn mức trung bình và liệt kê những quốc gia \n",
    "mean_alcohol = df['Alcohol'].mean()\n",
    "above_mean_alcohol = df[df['Alcohol'] > mean_alcohol]\n",
    "unique_countries = above_mean_alcohol['Country'].unique()\n",
    "print(f'Số quốc gia có mức rượu cao hơn trung bình: {len(unique_countries)}')\n",
    "print('Các quốc gia này bao gồm:', unique_countries)"
   ]
  }
 ],
 "metadata": {
  "kernelspec": {
   "display_name": "Python 3",
   "language": "python",
   "name": "python3"
  },
  "language_info": {
   "codemirror_mode": {
    "name": "ipython",
    "version": 3
   },
   "file_extension": ".py",
   "mimetype": "text/x-python",
   "name": "python",
   "nbconvert_exporter": "python",
   "pygments_lexer": "ipython3",
   "version": "3.13.2"
  }
 },
 "nbformat": 4,
 "nbformat_minor": 2
}
